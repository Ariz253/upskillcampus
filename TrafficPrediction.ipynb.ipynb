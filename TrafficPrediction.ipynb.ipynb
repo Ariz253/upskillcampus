{
 "cells": [
  {
   "cell_type": "code",
   "execution_count": null,
   "id": "8ce0f02e",
   "metadata": {
    "execution": {
     "iopub.execute_input": "2023-08-05T11:33:49.579265Z",
     "iopub.status.busy": "2023-08-05T11:33:49.578781Z",
     "iopub.status.idle": "2023-08-05T11:33:53.179258Z",
     "shell.execute_reply": "2023-08-05T11:33:53.177921Z"
    },
    "papermill": {
     "duration": 3.614863,
     "end_time": "2023-08-05T11:33:53.182155",
     "exception": false,
     "start_time": "2023-08-05T11:33:49.567292",
     "status": "completed"
    },
    "tags": []
   },
   "outputs": [],
   "source": [
    "#importing required libraries \n",
    "import numpy as np # linear algebra\n",
    "import pandas as pd \n",
    "import matplotlib.pyplot as plt\n",
    "%matplotlib inline\n",
    "from datetime import datetime\n",
    "import time\n",
    "import seaborn as sns\n",
    "\n",
    "from sklearn.preprocessing import *\n",
    "from sklearn.model_selection import *\n",
    "from sklearn.metrics import *\n",
    "import lightgbm as lgb\n",
    "import xgboost as xgb\n",
    "\n",
    "# Boosting Algorithm Libraries :\n",
    "from sklearn.ensemble import RandomForestRegressor"
   ]
  },
  {
   "cell_type": "code",
   "execution_count": 5,
   "id": "ab68c11f",
   "metadata": {
    "execution": {
     "iopub.execute_input": "2023-08-05T11:33:53.205674Z",
     "iopub.status.busy": "2023-08-05T11:33:53.204798Z",
     "iopub.status.idle": "2023-08-05T11:33:53.312562Z",
     "shell.execute_reply": "2023-08-05T11:33:53.311499Z"
    },
    "papermill": {
     "duration": 0.122468,
     "end_time": "2023-08-05T11:33:53.315378",
     "exception": false,
     "start_time": "2023-08-05T11:33:53.192910",
     "status": "completed"
    },
    "tags": []
   },
   "outputs": [],
   "source": [
    "test = pd.read_csv('extra.csv')\n",
    "train = pd.read_csv('train.csv')"
   ]
  },
  {
   "cell_type": "markdown",
   "id": "f0bb9652",
   "metadata": {
    "papermill": {
     "duration": 0.009985,
     "end_time": "2023-08-05T11:33:53.335752",
     "exception": false,
     "start_time": "2023-08-05T11:33:53.325767",
     "status": "completed"
    },
    "tags": []
   },
   "source": [
    "## Data information in train dataframe"
   ]
  },
  {
   "cell_type": "code",
   "execution_count": 7,
   "id": "961c3453",
   "metadata": {
    "execution": {
     "iopub.execute_input": "2023-08-05T11:33:53.358664Z",
     "iopub.status.busy": "2023-08-05T11:33:53.357840Z",
     "iopub.status.idle": "2023-08-05T11:33:53.424591Z",
     "shell.execute_reply": "2023-08-05T11:33:53.422710Z"
    },
    "papermill": {
     "duration": 0.081056,
     "end_time": "2023-08-05T11:33:53.427093",
     "exception": false,
     "start_time": "2023-08-05T11:33:53.346037",
     "status": "completed"
    },
    "tags": []
   },
   "outputs": [
    {
     "name": "stdout",
     "output_type": "stream",
     "text": [
      "rows:  48120  ,columns:  4  in Train \n",
      "\n",
      "<class 'pandas.core.frame.DataFrame'>\n",
      "RangeIndex: 48120 entries, 0 to 48119\n",
      "Data columns (total 4 columns):\n",
      " #   Column    Non-Null Count  Dtype \n",
      "---  ------    --------------  ----- \n",
      " 0   DateTime  48120 non-null  object\n",
      " 1   Junction  48120 non-null  int64 \n",
      " 2   Vehicles  48120 non-null  int64 \n",
      " 3   ID        48120 non-null  int64 \n",
      "dtypes: int64(3), object(1)\n",
      "memory usage: 1.5+ MB\n",
      "\n",
      "\n"
     ]
    },
    {
     "data": {
      "application/vnd.microsoft.datawrangler.viewer.v0+json": {
       "columns": [
        {
         "name": "index",
         "rawType": "int64",
         "type": "integer"
        },
        {
         "name": "DateTime",
         "rawType": "object",
         "type": "string"
        },
        {
         "name": "Junction",
         "rawType": "int64",
         "type": "integer"
        },
        {
         "name": "Vehicles",
         "rawType": "int64",
         "type": "integer"
        },
        {
         "name": "ID",
         "rawType": "int64",
         "type": "integer"
        }
       ],
       "ref": "37cb770a-220a-486c-80ce-272fcaa1e956",
       "rows": [
        [
         "0",
         "2015-11-01 00:00:00",
         "1",
         "15",
         "20151101001"
        ],
        [
         "1",
         "2015-11-01 01:00:00",
         "1",
         "13",
         "20151101011"
        ],
        [
         "2",
         "2015-11-01 02:00:00",
         "1",
         "10",
         "20151101021"
        ],
        [
         "3",
         "2015-11-01 03:00:00",
         "1",
         "7",
         "20151101031"
        ],
        [
         "4",
         "2015-11-01 04:00:00",
         "1",
         "9",
         "20151101041"
        ],
        [
         "48115",
         "2017-06-30 19:00:00",
         "4",
         "11",
         "20170630194"
        ],
        [
         "48116",
         "2017-06-30 20:00:00",
         "4",
         "30",
         "20170630204"
        ],
        [
         "48117",
         "2017-06-30 21:00:00",
         "4",
         "16",
         "20170630214"
        ],
        [
         "48118",
         "2017-06-30 22:00:00",
         "4",
         "22",
         "20170630224"
        ],
        [
         "48119",
         "2017-06-30 23:00:00",
         "4",
         "12",
         "20170630234"
        ]
       ],
       "shape": {
        "columns": 4,
        "rows": 10
       }
      },
      "text/html": [
       "<div>\n",
       "<style scoped>\n",
       "    .dataframe tbody tr th:only-of-type {\n",
       "        vertical-align: middle;\n",
       "    }\n",
       "\n",
       "    .dataframe tbody tr th {\n",
       "        vertical-align: top;\n",
       "    }\n",
       "\n",
       "    .dataframe thead th {\n",
       "        text-align: right;\n",
       "    }\n",
       "</style>\n",
       "<table border=\"1\" class=\"dataframe\">\n",
       "  <thead>\n",
       "    <tr style=\"text-align: right;\">\n",
       "      <th></th>\n",
       "      <th>DateTime</th>\n",
       "      <th>Junction</th>\n",
       "      <th>Vehicles</th>\n",
       "      <th>ID</th>\n",
       "    </tr>\n",
       "  </thead>\n",
       "  <tbody>\n",
       "    <tr>\n",
       "      <th>0</th>\n",
       "      <td>2015-11-01 00:00:00</td>\n",
       "      <td>1</td>\n",
       "      <td>15</td>\n",
       "      <td>20151101001</td>\n",
       "    </tr>\n",
       "    <tr>\n",
       "      <th>1</th>\n",
       "      <td>2015-11-01 01:00:00</td>\n",
       "      <td>1</td>\n",
       "      <td>13</td>\n",
       "      <td>20151101011</td>\n",
       "    </tr>\n",
       "    <tr>\n",
       "      <th>2</th>\n",
       "      <td>2015-11-01 02:00:00</td>\n",
       "      <td>1</td>\n",
       "      <td>10</td>\n",
       "      <td>20151101021</td>\n",
       "    </tr>\n",
       "    <tr>\n",
       "      <th>3</th>\n",
       "      <td>2015-11-01 03:00:00</td>\n",
       "      <td>1</td>\n",
       "      <td>7</td>\n",
       "      <td>20151101031</td>\n",
       "    </tr>\n",
       "    <tr>\n",
       "      <th>4</th>\n",
       "      <td>2015-11-01 04:00:00</td>\n",
       "      <td>1</td>\n",
       "      <td>9</td>\n",
       "      <td>20151101041</td>\n",
       "    </tr>\n",
       "    <tr>\n",
       "      <th>48115</th>\n",
       "      <td>2017-06-30 19:00:00</td>\n",
       "      <td>4</td>\n",
       "      <td>11</td>\n",
       "      <td>20170630194</td>\n",
       "    </tr>\n",
       "    <tr>\n",
       "      <th>48116</th>\n",
       "      <td>2017-06-30 20:00:00</td>\n",
       "      <td>4</td>\n",
       "      <td>30</td>\n",
       "      <td>20170630204</td>\n",
       "    </tr>\n",
       "    <tr>\n",
       "      <th>48117</th>\n",
       "      <td>2017-06-30 21:00:00</td>\n",
       "      <td>4</td>\n",
       "      <td>16</td>\n",
       "      <td>20170630214</td>\n",
       "    </tr>\n",
       "    <tr>\n",
       "      <th>48118</th>\n",
       "      <td>2017-06-30 22:00:00</td>\n",
       "      <td>4</td>\n",
       "      <td>22</td>\n",
       "      <td>20170630224</td>\n",
       "    </tr>\n",
       "    <tr>\n",
       "      <th>48119</th>\n",
       "      <td>2017-06-30 23:00:00</td>\n",
       "      <td>4</td>\n",
       "      <td>12</td>\n",
       "      <td>20170630234</td>\n",
       "    </tr>\n",
       "  </tbody>\n",
       "</table>\n",
       "</div>"
      ],
      "text/plain": [
       "                  DateTime  Junction  Vehicles           ID\n",
       "0      2015-11-01 00:00:00         1        15  20151101001\n",
       "1      2015-11-01 01:00:00         1        13  20151101011\n",
       "2      2015-11-01 02:00:00         1        10  20151101021\n",
       "3      2015-11-01 03:00:00         1         7  20151101031\n",
       "4      2015-11-01 04:00:00         1         9  20151101041\n",
       "48115  2017-06-30 19:00:00         4        11  20170630194\n",
       "48116  2017-06-30 20:00:00         4        30  20170630204\n",
       "48117  2017-06-30 21:00:00         4        16  20170630214\n",
       "48118  2017-06-30 22:00:00         4        22  20170630224\n",
       "48119  2017-06-30 23:00:00         4        12  20170630234"
      ]
     },
     "metadata": {},
     "output_type": "display_data"
    }
   ],
   "source": [
    "def data_inf(data,name):\n",
    "    print('rows: ',data.shape[0],' ,columns: ',data.shape[1],' in',name,'\\n')\n",
    "    data.info()\n",
    "    print('\\n')\n",
    "data_inf(train,'Train')\n",
    "display(pd.concat([train.head(5), train.tail(5)]))"
   ]
  },
  {
   "cell_type": "markdown",
   "id": "ece6ea77",
   "metadata": {
    "papermill": {
     "duration": 0.010582,
     "end_time": "2023-08-05T11:33:53.450437",
     "exception": false,
     "start_time": "2023-08-05T11:33:53.439855",
     "status": "completed"
    },
    "tags": []
   },
   "source": [
    "## Data information in test dataframe"
   ]
  },
  {
   "cell_type": "code",
   "execution_count": 9,
   "id": "a472fb2c",
   "metadata": {
    "execution": {
     "iopub.execute_input": "2023-08-05T11:33:53.473956Z",
     "iopub.status.busy": "2023-08-05T11:33:53.473515Z",
     "iopub.status.idle": "2023-08-05T11:33:53.500473Z",
     "shell.execute_reply": "2023-08-05T11:33:53.499280Z"
    },
    "papermill": {
     "duration": 0.041549,
     "end_time": "2023-08-05T11:33:53.502841",
     "exception": false,
     "start_time": "2023-08-05T11:33:53.461292",
     "status": "completed"
    },
    "tags": []
   },
   "outputs": [
    {
     "name": "stdout",
     "output_type": "stream",
     "text": [
      "rows:  11808  ,columns:  3  in Test \n",
      "\n",
      "<class 'pandas.core.frame.DataFrame'>\n",
      "RangeIndex: 11808 entries, 0 to 11807\n",
      "Data columns (total 3 columns):\n",
      " #   Column    Non-Null Count  Dtype \n",
      "---  ------    --------------  ----- \n",
      " 0   DateTime  11808 non-null  object\n",
      " 1   Junction  11808 non-null  int64 \n",
      " 2   ID        11808 non-null  int64 \n",
      "dtypes: int64(2), object(1)\n",
      "memory usage: 276.9+ KB\n",
      "\n",
      "\n"
     ]
    },
    {
     "data": {
      "application/vnd.microsoft.datawrangler.viewer.v0+json": {
       "columns": [
        {
         "name": "index",
         "rawType": "int64",
         "type": "integer"
        },
        {
         "name": "DateTime",
         "rawType": "object",
         "type": "string"
        },
        {
         "name": "Junction",
         "rawType": "int64",
         "type": "integer"
        },
        {
         "name": "ID",
         "rawType": "int64",
         "type": "integer"
        }
       ],
       "ref": "d25a80b8-3cc5-436c-b016-76304c7af2ee",
       "rows": [
        [
         "0",
         "2017-07-01 00:00:00",
         "1",
         "20170701001"
        ],
        [
         "1",
         "2017-07-01 01:00:00",
         "1",
         "20170701011"
        ],
        [
         "2",
         "2017-07-01 02:00:00",
         "1",
         "20170701021"
        ],
        [
         "3",
         "2017-07-01 03:00:00",
         "1",
         "20170701031"
        ],
        [
         "4",
         "2017-07-01 04:00:00",
         "1",
         "20170701041"
        ],
        [
         "11803",
         "2017-10-31 19:00:00",
         "4",
         "20171031194"
        ],
        [
         "11804",
         "2017-10-31 20:00:00",
         "4",
         "20171031204"
        ],
        [
         "11805",
         "2017-10-31 21:00:00",
         "4",
         "20171031214"
        ],
        [
         "11806",
         "2017-10-31 22:00:00",
         "4",
         "20171031224"
        ],
        [
         "11807",
         "2017-10-31 23:00:00",
         "4",
         "20171031234"
        ]
       ],
       "shape": {
        "columns": 3,
        "rows": 10
       }
      },
      "text/html": [
       "<div>\n",
       "<style scoped>\n",
       "    .dataframe tbody tr th:only-of-type {\n",
       "        vertical-align: middle;\n",
       "    }\n",
       "\n",
       "    .dataframe tbody tr th {\n",
       "        vertical-align: top;\n",
       "    }\n",
       "\n",
       "    .dataframe thead th {\n",
       "        text-align: right;\n",
       "    }\n",
       "</style>\n",
       "<table border=\"1\" class=\"dataframe\">\n",
       "  <thead>\n",
       "    <tr style=\"text-align: right;\">\n",
       "      <th></th>\n",
       "      <th>DateTime</th>\n",
       "      <th>Junction</th>\n",
       "      <th>ID</th>\n",
       "    </tr>\n",
       "  </thead>\n",
       "  <tbody>\n",
       "    <tr>\n",
       "      <th>0</th>\n",
       "      <td>2017-07-01 00:00:00</td>\n",
       "      <td>1</td>\n",
       "      <td>20170701001</td>\n",
       "    </tr>\n",
       "    <tr>\n",
       "      <th>1</th>\n",
       "      <td>2017-07-01 01:00:00</td>\n",
       "      <td>1</td>\n",
       "      <td>20170701011</td>\n",
       "    </tr>\n",
       "    <tr>\n",
       "      <th>2</th>\n",
       "      <td>2017-07-01 02:00:00</td>\n",
       "      <td>1</td>\n",
       "      <td>20170701021</td>\n",
       "    </tr>\n",
       "    <tr>\n",
       "      <th>3</th>\n",
       "      <td>2017-07-01 03:00:00</td>\n",
       "      <td>1</td>\n",
       "      <td>20170701031</td>\n",
       "    </tr>\n",
       "    <tr>\n",
       "      <th>4</th>\n",
       "      <td>2017-07-01 04:00:00</td>\n",
       "      <td>1</td>\n",
       "      <td>20170701041</td>\n",
       "    </tr>\n",
       "    <tr>\n",
       "      <th>11803</th>\n",
       "      <td>2017-10-31 19:00:00</td>\n",
       "      <td>4</td>\n",
       "      <td>20171031194</td>\n",
       "    </tr>\n",
       "    <tr>\n",
       "      <th>11804</th>\n",
       "      <td>2017-10-31 20:00:00</td>\n",
       "      <td>4</td>\n",
       "      <td>20171031204</td>\n",
       "    </tr>\n",
       "    <tr>\n",
       "      <th>11805</th>\n",
       "      <td>2017-10-31 21:00:00</td>\n",
       "      <td>4</td>\n",
       "      <td>20171031214</td>\n",
       "    </tr>\n",
       "    <tr>\n",
       "      <th>11806</th>\n",
       "      <td>2017-10-31 22:00:00</td>\n",
       "      <td>4</td>\n",
       "      <td>20171031224</td>\n",
       "    </tr>\n",
       "    <tr>\n",
       "      <th>11807</th>\n",
       "      <td>2017-10-31 23:00:00</td>\n",
       "      <td>4</td>\n",
       "      <td>20171031234</td>\n",
       "    </tr>\n",
       "  </tbody>\n",
       "</table>\n",
       "</div>"
      ],
      "text/plain": [
       "                  DateTime  Junction           ID\n",
       "0      2017-07-01 00:00:00         1  20170701001\n",
       "1      2017-07-01 01:00:00         1  20170701011\n",
       "2      2017-07-01 02:00:00         1  20170701021\n",
       "3      2017-07-01 03:00:00         1  20170701031\n",
       "4      2017-07-01 04:00:00         1  20170701041\n",
       "11803  2017-10-31 19:00:00         4  20171031194\n",
       "11804  2017-10-31 20:00:00         4  20171031204\n",
       "11805  2017-10-31 21:00:00         4  20171031214\n",
       "11806  2017-10-31 22:00:00         4  20171031224\n",
       "11807  2017-10-31 23:00:00         4  20171031234"
      ]
     },
     "metadata": {},
     "output_type": "display_data"
    }
   ],
   "source": [
    "data_inf(test,\"Test\")\n",
    "display(pd.concat([test.head(5), test.tail(5)]))"
   ]
  },
  {
   "cell_type": "markdown",
   "id": "3722938e",
   "metadata": {
    "papermill": {
     "duration": 0.011013,
     "end_time": "2023-08-05T11:33:53.525837",
     "exception": false,
     "start_time": "2023-08-05T11:33:53.514824",
     "status": "completed"
    },
    "tags": []
   },
   "source": [
    "## Data description"
   ]
  },
  {
   "cell_type": "code",
   "execution_count": 10,
   "id": "094a324d",
   "metadata": {
    "execution": {
     "iopub.execute_input": "2023-08-05T11:33:53.550786Z",
     "iopub.status.busy": "2023-08-05T11:33:53.550090Z",
     "iopub.status.idle": "2023-08-05T11:33:53.769780Z",
     "shell.execute_reply": "2023-08-05T11:33:53.768570Z"
    },
    "papermill": {
     "duration": 0.235417,
     "end_time": "2023-08-05T11:33:53.772624",
     "exception": false,
     "start_time": "2023-08-05T11:33:53.537207",
     "status": "completed"
    },
    "tags": []
   },
   "outputs": [
    {
     "data": {
      "application/vnd.microsoft.datawrangler.viewer.v0+json": {
       "columns": [
        {
         "name": "index",
         "rawType": "object",
         "type": "string"
        },
        {
         "name": "Junction",
         "rawType": "float64",
         "type": "float"
        },
        {
         "name": "Vehicles",
         "rawType": "float64",
         "type": "float"
        },
        {
         "name": "ID",
         "rawType": "float64",
         "type": "float"
        }
       ],
       "ref": "49079d09-30c5-42c4-bae0-3e2adfb155f5",
       "rows": [
        [
         "count",
         "48120.0",
         "48120.0",
         "48120.0"
        ],
        [
         "mean",
         "2.1805486284289275",
         "22.79133416458853",
         "20163302501.220448"
        ],
        [
         "std",
         "0.9669553613273331",
         "20.75006252003181",
         "5944853.800151658"
        ],
        [
         "min",
         "1.0",
         "1.0",
         "20151101001.0"
        ],
        [
         "25%",
         "1.0",
         "9.0",
         "20160416019.0"
        ],
        [
         "50%",
         "2.0",
         "15.0",
         "20160930037.0"
        ],
        [
         "75%",
         "3.0",
         "29.0",
         "20170225162.25"
        ],
        [
         "max",
         "4.0",
         "180.0",
         "20170630234.0"
        ]
       ],
       "shape": {
        "columns": 3,
        "rows": 8
       }
      },
      "text/html": [
       "<div>\n",
       "<style scoped>\n",
       "    .dataframe tbody tr th:only-of-type {\n",
       "        vertical-align: middle;\n",
       "    }\n",
       "\n",
       "    .dataframe tbody tr th {\n",
       "        vertical-align: top;\n",
       "    }\n",
       "\n",
       "    .dataframe thead th {\n",
       "        text-align: right;\n",
       "    }\n",
       "</style>\n",
       "<table border=\"1\" class=\"dataframe\">\n",
       "  <thead>\n",
       "    <tr style=\"text-align: right;\">\n",
       "      <th></th>\n",
       "      <th>Junction</th>\n",
       "      <th>Vehicles</th>\n",
       "      <th>ID</th>\n",
       "    </tr>\n",
       "  </thead>\n",
       "  <tbody>\n",
       "    <tr>\n",
       "      <th>count</th>\n",
       "      <td>48120.000000</td>\n",
       "      <td>48120.000000</td>\n",
       "      <td>4.812000e+04</td>\n",
       "    </tr>\n",
       "    <tr>\n",
       "      <th>mean</th>\n",
       "      <td>2.180549</td>\n",
       "      <td>22.791334</td>\n",
       "      <td>2.016330e+10</td>\n",
       "    </tr>\n",
       "    <tr>\n",
       "      <th>std</th>\n",
       "      <td>0.966955</td>\n",
       "      <td>20.750063</td>\n",
       "      <td>5.944854e+06</td>\n",
       "    </tr>\n",
       "    <tr>\n",
       "      <th>min</th>\n",
       "      <td>1.000000</td>\n",
       "      <td>1.000000</td>\n",
       "      <td>2.015110e+10</td>\n",
       "    </tr>\n",
       "    <tr>\n",
       "      <th>25%</th>\n",
       "      <td>1.000000</td>\n",
       "      <td>9.000000</td>\n",
       "      <td>2.016042e+10</td>\n",
       "    </tr>\n",
       "    <tr>\n",
       "      <th>50%</th>\n",
       "      <td>2.000000</td>\n",
       "      <td>15.000000</td>\n",
       "      <td>2.016093e+10</td>\n",
       "    </tr>\n",
       "    <tr>\n",
       "      <th>75%</th>\n",
       "      <td>3.000000</td>\n",
       "      <td>29.000000</td>\n",
       "      <td>2.017023e+10</td>\n",
       "    </tr>\n",
       "    <tr>\n",
       "      <th>max</th>\n",
       "      <td>4.000000</td>\n",
       "      <td>180.000000</td>\n",
       "      <td>2.017063e+10</td>\n",
       "    </tr>\n",
       "  </tbody>\n",
       "</table>\n",
       "</div>"
      ],
      "text/plain": [
       "           Junction      Vehicles            ID\n",
       "count  48120.000000  48120.000000  4.812000e+04\n",
       "mean       2.180549     22.791334  2.016330e+10\n",
       "std        0.966955     20.750063  5.944854e+06\n",
       "min        1.000000      1.000000  2.015110e+10\n",
       "25%        1.000000      9.000000  2.016042e+10\n",
       "50%        2.000000     15.000000  2.016093e+10\n",
       "75%        3.000000     29.000000  2.017023e+10\n",
       "max        4.000000    180.000000  2.017063e+10"
      ]
     },
     "metadata": {},
     "output_type": "display_data"
    },
    {
     "data": {
      "application/vnd.microsoft.datawrangler.viewer.v0+json": {
       "columns": [
        {
         "name": "index",
         "rawType": "object",
         "type": "string"
        },
        {
         "name": "DateTime",
         "rawType": "object",
         "type": "unknown"
        }
       ],
       "ref": "67fb9ffc-c238-46cd-9499-a29ad2ca18f6",
       "rows": [
        [
         "count",
         "48120"
        ],
        [
         "unique",
         "14592"
        ],
        [
         "top",
         "2017-06-30 08:00:00"
        ],
        [
         "freq",
         "4"
        ]
       ],
       "shape": {
        "columns": 1,
        "rows": 4
       }
      },
      "text/html": [
       "<div>\n",
       "<style scoped>\n",
       "    .dataframe tbody tr th:only-of-type {\n",
       "        vertical-align: middle;\n",
       "    }\n",
       "\n",
       "    .dataframe tbody tr th {\n",
       "        vertical-align: top;\n",
       "    }\n",
       "\n",
       "    .dataframe thead th {\n",
       "        text-align: right;\n",
       "    }\n",
       "</style>\n",
       "<table border=\"1\" class=\"dataframe\">\n",
       "  <thead>\n",
       "    <tr style=\"text-align: right;\">\n",
       "      <th></th>\n",
       "      <th>DateTime</th>\n",
       "    </tr>\n",
       "  </thead>\n",
       "  <tbody>\n",
       "    <tr>\n",
       "      <th>count</th>\n",
       "      <td>48120</td>\n",
       "    </tr>\n",
       "    <tr>\n",
       "      <th>unique</th>\n",
       "      <td>14592</td>\n",
       "    </tr>\n",
       "    <tr>\n",
       "      <th>top</th>\n",
       "      <td>2017-06-30 08:00:00</td>\n",
       "    </tr>\n",
       "    <tr>\n",
       "      <th>freq</th>\n",
       "      <td>4</td>\n",
       "    </tr>\n",
       "  </tbody>\n",
       "</table>\n",
       "</div>"
      ],
      "text/plain": [
       "                   DateTime\n",
       "count                 48120\n",
       "unique                14592\n",
       "top     2017-06-30 08:00:00\n",
       "freq                      4"
      ]
     },
     "metadata": {},
     "output_type": "display_data"
    }
   ],
   "source": [
    "display(train.describe())\n",
    "display(train.describe(include = 'object'))"
   ]
  },
  {
   "cell_type": "markdown",
   "id": "8186321b",
   "metadata": {
    "papermill": {
     "duration": 0.011387,
     "end_time": "2023-08-05T11:33:53.795698",
     "exception": false,
     "start_time": "2023-08-05T11:33:53.784311",
     "status": "completed"
    },
    "tags": []
   },
   "source": [
    "## drop duplicate rows in train data"
   ]
  },
  {
   "cell_type": "code",
   "execution_count": 11,
   "id": "e6bbb303",
   "metadata": {
    "execution": {
     "iopub.execute_input": "2023-08-05T11:33:53.821244Z",
     "iopub.status.busy": "2023-08-05T11:33:53.820458Z",
     "iopub.status.idle": "2023-08-05T11:33:53.846565Z",
     "shell.execute_reply": "2023-08-05T11:33:53.845568Z"
    },
    "papermill": {
     "duration": 0.041497,
     "end_time": "2023-08-05T11:33:53.849042",
     "exception": false,
     "start_time": "2023-08-05T11:33:53.807545",
     "status": "completed"
    },
    "tags": []
   },
   "outputs": [
    {
     "name": "stdout",
     "output_type": "stream",
     "text": [
      "before dropping  48120\n",
      "after dropping  48120\n"
     ]
    }
   ],
   "source": [
    "print('before dropping ',train.shape[0])\n",
    "train.drop_duplicates(keep=\"first\", inplace=True) \n",
    "print('after dropping ',train.shape[0])"
   ]
  },
  {
   "cell_type": "markdown",
   "id": "a6993d48",
   "metadata": {
    "papermill": {
     "duration": 0.011633,
     "end_time": "2023-08-05T11:33:53.872381",
     "exception": false,
     "start_time": "2023-08-05T11:33:53.860748",
     "status": "completed"
    },
    "tags": []
   },
   "source": [
    "## check for missing values and fill them if there"
   ]
  },
  {
   "cell_type": "code",
   "execution_count": 12,
   "id": "6d9ab37a",
   "metadata": {
    "execution": {
     "iopub.execute_input": "2023-08-05T11:33:53.898081Z",
     "iopub.status.busy": "2023-08-05T11:33:53.897638Z",
     "iopub.status.idle": "2023-08-05T11:33:53.930882Z",
     "shell.execute_reply": "2023-08-05T11:33:53.929757Z"
    },
    "papermill": {
     "duration": 0.049661,
     "end_time": "2023-08-05T11:33:53.933849",
     "exception": false,
     "start_time": "2023-08-05T11:33:53.884188",
     "status": "completed"
    },
    "tags": []
   },
   "outputs": [
    {
     "name": "stdout",
     "output_type": "stream",
     "text": [
      "no missing values in train\n",
      "no missing values in test\n"
     ]
    }
   ],
   "source": [
    "if(train.isnull().sum().sum()==0):\n",
    "    print('no missing values in train')\n",
    "else:\n",
    "    train.fillna(method='ffill',inplace=True)\n",
    "if(test.isnull().sum().sum()==0):\n",
    "    print('no missing values in test')    \n",
    "else:\n",
    "    test.fillna(method='ffill',inplace=True)"
   ]
  },
  {
   "cell_type": "markdown",
   "id": "dc00f26e",
   "metadata": {
    "papermill": {
     "duration": 0.011507,
     "end_time": "2023-08-05T11:33:53.957511",
     "exception": false,
     "start_time": "2023-08-05T11:33:53.946004",
     "status": "completed"
    },
    "tags": []
   },
   "source": [
    "## Converting datetime column into datetime "
   ]
  },
  {
   "cell_type": "code",
   "execution_count": 13,
   "id": "f2308bfe",
   "metadata": {
    "execution": {
     "iopub.execute_input": "2023-08-05T11:33:53.983611Z",
     "iopub.status.busy": "2023-08-05T11:33:53.982936Z",
     "iopub.status.idle": "2023-08-05T11:33:54.013837Z",
     "shell.execute_reply": "2023-08-05T11:33:54.012199Z"
    },
    "papermill": {
     "duration": 0.047064,
     "end_time": "2023-08-05T11:33:54.016431",
     "exception": false,
     "start_time": "2023-08-05T11:33:53.969367",
     "status": "completed"
    },
    "tags": []
   },
   "outputs": [
    {
     "name": "stdout",
     "output_type": "stream",
     "text": [
      "before converting : object\n",
      "after converting : datetime64[ns]\n"
     ]
    }
   ],
   "source": [
    "print('before converting :',train['DateTime'].dtype)\n",
    "train['DateTime'] = pd.to_datetime(train['DateTime'])\n",
    "test['DateTime'] = pd.to_datetime(test['DateTime'])\n",
    "print('after converting :',train['DateTime'].dtype)"
   ]
  },
  {
   "cell_type": "code",
   "execution_count": 14,
   "id": "9efca714",
   "metadata": {
    "execution": {
     "iopub.execute_input": "2023-08-05T11:33:54.042939Z",
     "iopub.status.busy": "2023-08-05T11:33:54.042539Z",
     "iopub.status.idle": "2023-08-05T11:33:54.056215Z",
     "shell.execute_reply": "2023-08-05T11:33:54.054867Z"
    },
    "papermill": {
     "duration": 0.029581,
     "end_time": "2023-08-05T11:33:54.058608",
     "exception": false,
     "start_time": "2023-08-05T11:33:54.029027",
     "status": "completed"
    },
    "tags": []
   },
   "outputs": [
    {
     "name": "stdout",
     "output_type": "stream",
     "text": [
      "<class 'pandas.core.frame.DataFrame'>\n",
      "RangeIndex: 48120 entries, 0 to 48119\n",
      "Data columns (total 4 columns):\n",
      " #   Column    Non-Null Count  Dtype         \n",
      "---  ------    --------------  -----         \n",
      " 0   DateTime  48120 non-null  datetime64[ns]\n",
      " 1   Junction  48120 non-null  int64         \n",
      " 2   Vehicles  48120 non-null  int64         \n",
      " 3   ID        48120 non-null  int64         \n",
      "dtypes: datetime64[ns](1), int64(3)\n",
      "memory usage: 1.5 MB\n"
     ]
    }
   ],
   "source": [
    "train.info()"
   ]
  },
  {
   "cell_type": "markdown",
   "id": "bba9504d",
   "metadata": {
    "papermill": {
     "duration": 0.011719,
     "end_time": "2023-08-05T11:33:54.082543",
     "exception": false,
     "start_time": "2023-08-05T11:33:54.070824",
     "status": "completed"
    },
    "tags": []
   },
   "source": [
    "<h2>Feature Engineering</h2>\n",
    "<h3>Extracting important features from datetime column</h3>"
   ]
  },
  {
   "cell_type": "code",
   "execution_count": 15,
   "id": "8d0c640c",
   "metadata": {
    "execution": {
     "iopub.execute_input": "2023-08-05T11:33:54.109942Z",
     "iopub.status.busy": "2023-08-05T11:33:54.108681Z",
     "iopub.status.idle": "2023-08-05T11:33:54.557425Z",
     "shell.execute_reply": "2023-08-05T11:33:54.556264Z"
    },
    "papermill": {
     "duration": 0.465285,
     "end_time": "2023-08-05T11:33:54.560362",
     "exception": false,
     "start_time": "2023-08-05T11:33:54.095077",
     "status": "completed"
    },
    "tags": []
   },
   "outputs": [],
   "source": [
    "# Exploring more features  \n",
    "train[\"Year\"]= train['DateTime'].dt.year  \n",
    "train[\"Month\"]= train['DateTime'].dt.month  \n",
    "train[\"Date_no\"]= train['DateTime'].dt.day  \n",
    "train[\"Hour\"]= train['DateTime'].dt.hour  \n",
    "train[\"Day\"]= train.DateTime.dt.strftime(\"%A\")\n",
    "\n",
    "test[\"Year\"]= test['DateTime'].dt.year  \n",
    "test[\"Month\"]= test['DateTime'].dt.month  \n",
    "test[\"Date_no\"]= test['DateTime'].dt.day  \n",
    "test[\"Hour\"]= test['DateTime'].dt.hour  \n",
    "test[\"Day\"]= test.DateTime.dt.strftime(\"%A\")"
   ]
  },
  {
   "cell_type": "code",
   "execution_count": 16,
   "id": "a484201c",
   "metadata": {
    "execution": {
     "iopub.execute_input": "2023-08-05T11:33:54.587062Z",
     "iopub.status.busy": "2023-08-05T11:33:54.586632Z",
     "iopub.status.idle": "2023-08-05T11:33:54.601212Z",
     "shell.execute_reply": "2023-08-05T11:33:54.600020Z"
    },
    "papermill": {
     "duration": 0.031205,
     "end_time": "2023-08-05T11:33:54.604162",
     "exception": false,
     "start_time": "2023-08-05T11:33:54.572957",
     "status": "completed"
    },
    "tags": []
   },
   "outputs": [
    {
     "data": {
      "application/vnd.microsoft.datawrangler.viewer.v0+json": {
       "columns": [
        {
         "name": "index",
         "rawType": "int64",
         "type": "integer"
        },
        {
         "name": "DateTime",
         "rawType": "datetime64[ns]",
         "type": "datetime"
        },
        {
         "name": "Junction",
         "rawType": "int64",
         "type": "integer"
        },
        {
         "name": "Vehicles",
         "rawType": "int64",
         "type": "integer"
        },
        {
         "name": "ID",
         "rawType": "int64",
         "type": "integer"
        },
        {
         "name": "Year",
         "rawType": "int32",
         "type": "integer"
        },
        {
         "name": "Month",
         "rawType": "int32",
         "type": "integer"
        },
        {
         "name": "Date_no",
         "rawType": "int32",
         "type": "integer"
        },
        {
         "name": "Hour",
         "rawType": "int32",
         "type": "integer"
        },
        {
         "name": "Day",
         "rawType": "object",
         "type": "string"
        }
       ],
       "ref": "f96b89f2-e371-47a3-bd4f-ff5dc4faca88",
       "rows": [
        [
         "0",
         "2015-11-01 00:00:00",
         "1",
         "15",
         "20151101001",
         "2015",
         "11",
         "1",
         "0",
         "Sunday"
        ],
        [
         "1",
         "2015-11-01 01:00:00",
         "1",
         "13",
         "20151101011",
         "2015",
         "11",
         "1",
         "1",
         "Sunday"
        ],
        [
         "2",
         "2015-11-01 02:00:00",
         "1",
         "10",
         "20151101021",
         "2015",
         "11",
         "1",
         "2",
         "Sunday"
        ],
        [
         "3",
         "2015-11-01 03:00:00",
         "1",
         "7",
         "20151101031",
         "2015",
         "11",
         "1",
         "3",
         "Sunday"
        ],
        [
         "4",
         "2015-11-01 04:00:00",
         "1",
         "9",
         "20151101041",
         "2015",
         "11",
         "1",
         "4",
         "Sunday"
        ]
       ],
       "shape": {
        "columns": 9,
        "rows": 5
       }
      },
      "text/html": [
       "<div>\n",
       "<style scoped>\n",
       "    .dataframe tbody tr th:only-of-type {\n",
       "        vertical-align: middle;\n",
       "    }\n",
       "\n",
       "    .dataframe tbody tr th {\n",
       "        vertical-align: top;\n",
       "    }\n",
       "\n",
       "    .dataframe thead th {\n",
       "        text-align: right;\n",
       "    }\n",
       "</style>\n",
       "<table border=\"1\" class=\"dataframe\">\n",
       "  <thead>\n",
       "    <tr style=\"text-align: right;\">\n",
       "      <th></th>\n",
       "      <th>DateTime</th>\n",
       "      <th>Junction</th>\n",
       "      <th>Vehicles</th>\n",
       "      <th>ID</th>\n",
       "      <th>Year</th>\n",
       "      <th>Month</th>\n",
       "      <th>Date_no</th>\n",
       "      <th>Hour</th>\n",
       "      <th>Day</th>\n",
       "    </tr>\n",
       "  </thead>\n",
       "  <tbody>\n",
       "    <tr>\n",
       "      <th>0</th>\n",
       "      <td>2015-11-01 00:00:00</td>\n",
       "      <td>1</td>\n",
       "      <td>15</td>\n",
       "      <td>20151101001</td>\n",
       "      <td>2015</td>\n",
       "      <td>11</td>\n",
       "      <td>1</td>\n",
       "      <td>0</td>\n",
       "      <td>Sunday</td>\n",
       "    </tr>\n",
       "    <tr>\n",
       "      <th>1</th>\n",
       "      <td>2015-11-01 01:00:00</td>\n",
       "      <td>1</td>\n",
       "      <td>13</td>\n",
       "      <td>20151101011</td>\n",
       "      <td>2015</td>\n",
       "      <td>11</td>\n",
       "      <td>1</td>\n",
       "      <td>1</td>\n",
       "      <td>Sunday</td>\n",
       "    </tr>\n",
       "    <tr>\n",
       "      <th>2</th>\n",
       "      <td>2015-11-01 02:00:00</td>\n",
       "      <td>1</td>\n",
       "      <td>10</td>\n",
       "      <td>20151101021</td>\n",
       "      <td>2015</td>\n",
       "      <td>11</td>\n",
       "      <td>1</td>\n",
       "      <td>2</td>\n",
       "      <td>Sunday</td>\n",
       "    </tr>\n",
       "    <tr>\n",
       "      <th>3</th>\n",
       "      <td>2015-11-01 03:00:00</td>\n",
       "      <td>1</td>\n",
       "      <td>7</td>\n",
       "      <td>20151101031</td>\n",
       "      <td>2015</td>\n",
       "      <td>11</td>\n",
       "      <td>1</td>\n",
       "      <td>3</td>\n",
       "      <td>Sunday</td>\n",
       "    </tr>\n",
       "    <tr>\n",
       "      <th>4</th>\n",
       "      <td>2015-11-01 04:00:00</td>\n",
       "      <td>1</td>\n",
       "      <td>9</td>\n",
       "      <td>20151101041</td>\n",
       "      <td>2015</td>\n",
       "      <td>11</td>\n",
       "      <td>1</td>\n",
       "      <td>4</td>\n",
       "      <td>Sunday</td>\n",
       "    </tr>\n",
       "  </tbody>\n",
       "</table>\n",
       "</div>"
      ],
      "text/plain": [
       "             DateTime  Junction  Vehicles           ID  Year  Month  Date_no  \\\n",
       "0 2015-11-01 00:00:00         1        15  20151101001  2015     11        1   \n",
       "1 2015-11-01 01:00:00         1        13  20151101011  2015     11        1   \n",
       "2 2015-11-01 02:00:00         1        10  20151101021  2015     11        1   \n",
       "3 2015-11-01 03:00:00         1         7  20151101031  2015     11        1   \n",
       "4 2015-11-01 04:00:00         1         9  20151101041  2015     11        1   \n",
       "\n",
       "   Hour     Day  \n",
       "0     0  Sunday  \n",
       "1     1  Sunday  \n",
       "2     2  Sunday  \n",
       "3     3  Sunday  \n",
       "4     4  Sunday  "
      ]
     },
     "execution_count": 16,
     "metadata": {},
     "output_type": "execute_result"
    }
   ],
   "source": [
    "train.head()"
   ]
  },
  {
   "cell_type": "code",
   "execution_count": 17,
   "id": "c588f992",
   "metadata": {
    "execution": {
     "iopub.execute_input": "2023-08-05T11:33:54.631289Z",
     "iopub.status.busy": "2023-08-05T11:33:54.630189Z",
     "iopub.status.idle": "2023-08-05T11:33:54.644423Z",
     "shell.execute_reply": "2023-08-05T11:33:54.643200Z"
    },
    "papermill": {
     "duration": 0.030266,
     "end_time": "2023-08-05T11:33:54.646868",
     "exception": false,
     "start_time": "2023-08-05T11:33:54.616602",
     "status": "completed"
    },
    "tags": []
   },
   "outputs": [
    {
     "data": {
      "application/vnd.microsoft.datawrangler.viewer.v0+json": {
       "columns": [
        {
         "name": "index",
         "rawType": "int64",
         "type": "integer"
        },
        {
         "name": "DateTime",
         "rawType": "datetime64[ns]",
         "type": "datetime"
        },
        {
         "name": "Junction",
         "rawType": "int64",
         "type": "integer"
        },
        {
         "name": "ID",
         "rawType": "int64",
         "type": "integer"
        },
        {
         "name": "Year",
         "rawType": "int32",
         "type": "integer"
        },
        {
         "name": "Month",
         "rawType": "int32",
         "type": "integer"
        },
        {
         "name": "Date_no",
         "rawType": "int32",
         "type": "integer"
        },
        {
         "name": "Hour",
         "rawType": "int32",
         "type": "integer"
        },
        {
         "name": "Day",
         "rawType": "object",
         "type": "string"
        }
       ],
       "ref": "a11c485a-df4b-4e82-be09-08756eb56576",
       "rows": [
        [
         "0",
         "2017-07-01 00:00:00",
         "1",
         "20170701001",
         "2017",
         "7",
         "1",
         "0",
         "Saturday"
        ],
        [
         "1",
         "2017-07-01 01:00:00",
         "1",
         "20170701011",
         "2017",
         "7",
         "1",
         "1",
         "Saturday"
        ],
        [
         "2",
         "2017-07-01 02:00:00",
         "1",
         "20170701021",
         "2017",
         "7",
         "1",
         "2",
         "Saturday"
        ],
        [
         "3",
         "2017-07-01 03:00:00",
         "1",
         "20170701031",
         "2017",
         "7",
         "1",
         "3",
         "Saturday"
        ],
        [
         "4",
         "2017-07-01 04:00:00",
         "1",
         "20170701041",
         "2017",
         "7",
         "1",
         "4",
         "Saturday"
        ]
       ],
       "shape": {
        "columns": 8,
        "rows": 5
       }
      },
      "text/html": [
       "<div>\n",
       "<style scoped>\n",
       "    .dataframe tbody tr th:only-of-type {\n",
       "        vertical-align: middle;\n",
       "    }\n",
       "\n",
       "    .dataframe tbody tr th {\n",
       "        vertical-align: top;\n",
       "    }\n",
       "\n",
       "    .dataframe thead th {\n",
       "        text-align: right;\n",
       "    }\n",
       "</style>\n",
       "<table border=\"1\" class=\"dataframe\">\n",
       "  <thead>\n",
       "    <tr style=\"text-align: right;\">\n",
       "      <th></th>\n",
       "      <th>DateTime</th>\n",
       "      <th>Junction</th>\n",
       "      <th>ID</th>\n",
       "      <th>Year</th>\n",
       "      <th>Month</th>\n",
       "      <th>Date_no</th>\n",
       "      <th>Hour</th>\n",
       "      <th>Day</th>\n",
       "    </tr>\n",
       "  </thead>\n",
       "  <tbody>\n",
       "    <tr>\n",
       "      <th>0</th>\n",
       "      <td>2017-07-01 00:00:00</td>\n",
       "      <td>1</td>\n",
       "      <td>20170701001</td>\n",
       "      <td>2017</td>\n",
       "      <td>7</td>\n",
       "      <td>1</td>\n",
       "      <td>0</td>\n",
       "      <td>Saturday</td>\n",
       "    </tr>\n",
       "    <tr>\n",
       "      <th>1</th>\n",
       "      <td>2017-07-01 01:00:00</td>\n",
       "      <td>1</td>\n",
       "      <td>20170701011</td>\n",
       "      <td>2017</td>\n",
       "      <td>7</td>\n",
       "      <td>1</td>\n",
       "      <td>1</td>\n",
       "      <td>Saturday</td>\n",
       "    </tr>\n",
       "    <tr>\n",
       "      <th>2</th>\n",
       "      <td>2017-07-01 02:00:00</td>\n",
       "      <td>1</td>\n",
       "      <td>20170701021</td>\n",
       "      <td>2017</td>\n",
       "      <td>7</td>\n",
       "      <td>1</td>\n",
       "      <td>2</td>\n",
       "      <td>Saturday</td>\n",
       "    </tr>\n",
       "    <tr>\n",
       "      <th>3</th>\n",
       "      <td>2017-07-01 03:00:00</td>\n",
       "      <td>1</td>\n",
       "      <td>20170701031</td>\n",
       "      <td>2017</td>\n",
       "      <td>7</td>\n",
       "      <td>1</td>\n",
       "      <td>3</td>\n",
       "      <td>Saturday</td>\n",
       "    </tr>\n",
       "    <tr>\n",
       "      <th>4</th>\n",
       "      <td>2017-07-01 04:00:00</td>\n",
       "      <td>1</td>\n",
       "      <td>20170701041</td>\n",
       "      <td>2017</td>\n",
       "      <td>7</td>\n",
       "      <td>1</td>\n",
       "      <td>4</td>\n",
       "      <td>Saturday</td>\n",
       "    </tr>\n",
       "  </tbody>\n",
       "</table>\n",
       "</div>"
      ],
      "text/plain": [
       "             DateTime  Junction           ID  Year  Month  Date_no  Hour  \\\n",
       "0 2017-07-01 00:00:00         1  20170701001  2017      7        1     0   \n",
       "1 2017-07-01 01:00:00         1  20170701011  2017      7        1     1   \n",
       "2 2017-07-01 02:00:00         1  20170701021  2017      7        1     2   \n",
       "3 2017-07-01 03:00:00         1  20170701031  2017      7        1     3   \n",
       "4 2017-07-01 04:00:00         1  20170701041  2017      7        1     4   \n",
       "\n",
       "        Day  \n",
       "0  Saturday  \n",
       "1  Saturday  \n",
       "2  Saturday  \n",
       "3  Saturday  \n",
       "4  Saturday  "
      ]
     },
     "execution_count": 17,
     "metadata": {},
     "output_type": "execute_result"
    }
   ],
   "source": [
    "test.head()"
   ]
  },
  {
   "cell_type": "markdown",
   "id": "b95a0780",
   "metadata": {
    "papermill": {
     "duration": 0.012317,
     "end_time": "2023-08-05T11:33:54.671857",
     "exception": false,
     "start_time": "2023-08-05T11:33:54.659540",
     "status": "completed"
    },
    "tags": []
   },
   "source": [
    "## Data Visualization "
   ]
  },
  {
   "cell_type": "code",
   "execution_count": null,
   "id": "7634d45b",
   "metadata": {
    "execution": {
     "iopub.execute_input": "2023-08-05T11:33:54.699211Z",
     "iopub.status.busy": "2023-08-05T11:33:54.698204Z",
     "iopub.status.idle": "2023-08-05T11:33:55.945975Z",
     "shell.execute_reply": "2023-08-05T11:33:55.944815Z"
    },
    "papermill": {
     "duration": 1.2651,
     "end_time": "2023-08-05T11:33:55.949561",
     "exception": false,
     "start_time": "2023-08-05T11:33:54.684461",
     "status": "completed"
    },
    "tags": []
   },
   "outputs": [
    {
     "data": {
      "text/plain": [
       "Text(0.5, 0, 'DateTime')"
      ]
     },
     "execution_count": 18,
     "metadata": {},
     "output_type": "execute_result"
    },
    {
     "data": {
      "image/png": "[encoded data removed]",
      "text/plain": [
       "<Figure size 2000x400 with 1 Axes>"
      ]
     },
     "metadata": {},
     "output_type": "display_data"
    }
   ],
   "source": [
    "# time series plot\n",
    "# this plot shows the variation of vehicle count with time for different junctions\n",
    "colors = [ \"#FFD4DB\",\"#BBE7FE\",\"#D3B5E5\",\"#dfe2b6\"]\n",
    "plt.figure(figsize=(20,4),facecolor=\"#627D78\")  \n",
    "time_series=sns.lineplot(x=train['DateTime'],y=\"Vehicles\",data=train, hue=\"Junction\", palette=colors)  \n",
    "time_series.set_title(\"DateTime vs Vehicle\")  \n",
    "time_series.set_ylabel(\"Vehicles in Number\")  \n",
    "time_series.set_xlabel(\"DateTime\") "
   ]
  },
  {
   "cell_type": "code",
   "execution_count": 19,
   "id": "b847f620",
   "metadata": {
    "execution": {
     "iopub.execute_input": "2023-08-05T11:33:55.981183Z",
     "iopub.status.busy": "2023-08-05T11:33:55.980029Z",
     "iopub.status.idle": "2023-08-05T11:33:56.415352Z",
     "shell.execute_reply": "2023-08-05T11:33:56.414166Z"
    },
    "papermill": {
     "duration": 0.453412,
     "end_time": "2023-08-05T11:33:56.417799",
     "exception": false,
     "start_time": "2023-08-05T11:33:55.964387",
     "status": "completed"
    },
    "tags": []
   },
   "outputs": [
    {
     "data": {
      "text/plain": [
       "Text(0.5, 0, 'Date')"
      ]
     },
     "execution_count": 19,
     "metadata": {},
     "output_type": "execute_result"
    },
    {
     "data": {
      "image/png": "[encoded data removed]",
      "text/plain": [
       "<Figure size 1200x500 with 1 Axes>"
      ]
     },
     "metadata": {},
     "output_type": "display_data"
    }
   ],
   "source": [
    "#years of traffic at junction\n",
    "plt.figure(figsize=(12,5),facecolor=\"#627D78\")  \n",
    "colors = [ \"#FFD4DB\",\"#BBE7FE\",\"#D3B5E5\",\"#dfe2b6\"]\n",
    "count = sns.countplot(data=train, x =train[\"Year\"], hue=\"Junction\", palette=colors)  \n",
    "count.set_title(\"Years of Traffic at Junctions\")  \n",
    "count.set_ylabel(\"Vehicles in numbers\")  \n",
    "count.set_xlabel(\"Date\") "
   ]
  },
  {
   "cell_type": "code",
   "execution_count": 21,
   "id": "bee5418d",
   "metadata": {
    "execution": {
     "iopub.execute_input": "2023-08-05T11:33:56.450090Z",
     "iopub.status.busy": "2023-08-05T11:33:56.449633Z",
     "iopub.status.idle": "2023-08-05T11:33:56.990438Z",
     "shell.execute_reply": "2023-08-05T11:33:56.989194Z"
    },
    "papermill": {
     "duration": 0.560266,
     "end_time": "2023-08-05T11:33:56.993056",
     "exception": false,
     "start_time": "2023-08-05T11:33:56.432790",
     "status": "completed"
    },
    "tags": []
   },
   "outputs": [
    {
     "data": {
      "text/plain": [
       "<Axes: >"
      ]
     },
     "execution_count": 21,
     "metadata": {},
     "output_type": "execute_result"
    },
    {
     "data": {
      "image/png": "[encoded data removed]",
      "text/plain": [
       "<Figure size 1000x1000 with 2 Axes>"
      ]
     },
     "metadata": {},
     "output_type": "display_data"
    }
   ],
   "source": [
    "#heat map\n",
    "corrmat = train.corr(numeric_only=True)  \n",
    "plt.subplots(figsize=(10,10),facecolor=\"#627D78\")  \n",
    "sns.heatmap(corrmat,cmap= \"Pastel2\",annot=True,square=True, )  "
   ]
  },
  {
   "cell_type": "markdown",
   "id": "92ab3532",
   "metadata": {
    "papermill": {
     "duration": 0.016394,
     "end_time": "2023-08-05T11:33:57.026098",
     "exception": false,
     "start_time": "2023-08-05T11:33:57.009704",
     "status": "completed"
    },
    "tags": []
   },
   "source": [
    "## split the train data"
   ]
  },
  {
   "cell_type": "code",
   "execution_count": 24,
   "id": "37f9b3b6",
   "metadata": {
    "execution": {
     "iopub.execute_input": "2023-08-05T11:33:57.061242Z",
     "iopub.status.busy": "2023-08-05T11:33:57.060495Z",
     "iopub.status.idle": "2023-08-05T11:33:57.066185Z",
     "shell.execute_reply": "2023-08-05T11:33:57.065299Z"
    },
    "papermill": {
     "duration": 0.026134,
     "end_time": "2023-08-05T11:33:57.068659",
     "exception": false,
     "start_time": "2023-08-05T11:33:57.042525",
     "status": "completed"
    },
    "tags": []
   },
   "outputs": [],
   "source": [
    "def datetounix1(df):\n",
    "    df = df.copy()\n",
    "    df['DateTime'] = pd.to_datetime(df['DateTime'])\n",
    "    df['DateTime'] = df['DateTime'].astype('int64') // 1_000_000_000  # Convert to seconds\n",
    "    return df"
   ]
  },
  {
   "cell_type": "code",
   "execution_count": 25,
   "id": "a7db0b4d",
   "metadata": {
    "execution": {
     "iopub.execute_input": "2023-08-05T11:33:57.104402Z",
     "iopub.status.busy": "2023-08-05T11:33:57.103684Z",
     "iopub.status.idle": "2023-08-05T11:33:57.117921Z",
     "shell.execute_reply": "2023-08-05T11:33:57.116798Z"
    },
    "papermill": {
     "duration": 0.034739,
     "end_time": "2023-08-05T11:33:57.120324",
     "exception": false,
     "start_time": "2023-08-05T11:33:57.085585",
     "status": "completed"
    },
    "tags": []
   },
   "outputs": [
    {
     "data": {
      "application/vnd.microsoft.datawrangler.viewer.v0+json": {
       "columns": [
        {
         "name": "index",
         "rawType": "int64",
         "type": "integer"
        },
        {
         "name": "DateTime",
         "rawType": "datetime64[ns]",
         "type": "datetime"
        },
        {
         "name": "Junction",
         "rawType": "int64",
         "type": "integer"
        },
        {
         "name": "Vehicles",
         "rawType": "int64",
         "type": "integer"
        },
        {
         "name": "ID",
         "rawType": "int64",
         "type": "integer"
        },
        {
         "name": "Year",
         "rawType": "int32",
         "type": "integer"
        },
        {
         "name": "Month",
         "rawType": "int32",
         "type": "integer"
        },
        {
         "name": "Date_no",
         "rawType": "int32",
         "type": "integer"
        },
        {
         "name": "Hour",
         "rawType": "int32",
         "type": "integer"
        },
        {
         "name": "Day",
         "rawType": "object",
         "type": "string"
        }
       ],
       "ref": "b2597546-feed-4944-8621-84260585a4ef",
       "rows": [
        [
         "0",
         "2015-11-01 00:00:00",
         "1",
         "15",
         "20151101001",
         "2015",
         "11",
         "1",
         "0",
         "Sunday"
        ],
        [
         "1",
         "2015-11-01 01:00:00",
         "1",
         "13",
         "20151101011",
         "2015",
         "11",
         "1",
         "1",
         "Sunday"
        ],
        [
         "2",
         "2015-11-01 02:00:00",
         "1",
         "10",
         "20151101021",
         "2015",
         "11",
         "1",
         "2",
         "Sunday"
        ],
        [
         "3",
         "2015-11-01 03:00:00",
         "1",
         "7",
         "20151101031",
         "2015",
         "11",
         "1",
         "3",
         "Sunday"
        ],
        [
         "4",
         "2015-11-01 04:00:00",
         "1",
         "9",
         "20151101041",
         "2015",
         "11",
         "1",
         "4",
         "Sunday"
        ]
       ],
       "shape": {
        "columns": 9,
        "rows": 5
       }
      },
      "text/html": [
       "<div>\n",
       "<style scoped>\n",
       "    .dataframe tbody tr th:only-of-type {\n",
       "        vertical-align: middle;\n",
       "    }\n",
       "\n",
       "    .dataframe tbody tr th {\n",
       "        vertical-align: top;\n",
       "    }\n",
       "\n",
       "    .dataframe thead th {\n",
       "        text-align: right;\n",
       "    }\n",
       "</style>\n",
       "<table border=\"1\" class=\"dataframe\">\n",
       "  <thead>\n",
       "    <tr style=\"text-align: right;\">\n",
       "      <th></th>\n",
       "      <th>DateTime</th>\n",
       "      <th>Junction</th>\n",
       "      <th>Vehicles</th>\n",
       "      <th>ID</th>\n",
       "      <th>Year</th>\n",
       "      <th>Month</th>\n",
       "      <th>Date_no</th>\n",
       "      <th>Hour</th>\n",
       "      <th>Day</th>\n",
       "    </tr>\n",
       "  </thead>\n",
       "  <tbody>\n",
       "    <tr>\n",
       "      <th>0</th>\n",
       "      <td>2015-11-01 00:00:00</td>\n",
       "      <td>1</td>\n",
       "      <td>15</td>\n",
       "      <td>20151101001</td>\n",
       "      <td>2015</td>\n",
       "      <td>11</td>\n",
       "      <td>1</td>\n",
       "      <td>0</td>\n",
       "      <td>Sunday</td>\n",
       "    </tr>\n",
       "    <tr>\n",
       "      <th>1</th>\n",
       "      <td>2015-11-01 01:00:00</td>\n",
       "      <td>1</td>\n",
       "      <td>13</td>\n",
       "      <td>20151101011</td>\n",
       "      <td>2015</td>\n",
       "      <td>11</td>\n",
       "      <td>1</td>\n",
       "      <td>1</td>\n",
       "      <td>Sunday</td>\n",
       "    </tr>\n",
       "    <tr>\n",
       "      <th>2</th>\n",
       "      <td>2015-11-01 02:00:00</td>\n",
       "      <td>1</td>\n",
       "      <td>10</td>\n",
       "      <td>20151101021</td>\n",
       "      <td>2015</td>\n",
       "      <td>11</td>\n",
       "      <td>1</td>\n",
       "      <td>2</td>\n",
       "      <td>Sunday</td>\n",
       "    </tr>\n",
       "    <tr>\n",
       "      <th>3</th>\n",
       "      <td>2015-11-01 03:00:00</td>\n",
       "      <td>1</td>\n",
       "      <td>7</td>\n",
       "      <td>20151101031</td>\n",
       "      <td>2015</td>\n",
       "      <td>11</td>\n",
       "      <td>1</td>\n",
       "      <td>3</td>\n",
       "      <td>Sunday</td>\n",
       "    </tr>\n",
       "    <tr>\n",
       "      <th>4</th>\n",
       "      <td>2015-11-01 04:00:00</td>\n",
       "      <td>1</td>\n",
       "      <td>9</td>\n",
       "      <td>20151101041</td>\n",
       "      <td>2015</td>\n",
       "      <td>11</td>\n",
       "      <td>1</td>\n",
       "      <td>4</td>\n",
       "      <td>Sunday</td>\n",
       "    </tr>\n",
       "  </tbody>\n",
       "</table>\n",
       "</div>"
      ],
      "text/plain": [
       "             DateTime  Junction  Vehicles           ID  Year  Month  Date_no  \\\n",
       "0 2015-11-01 00:00:00         1        15  20151101001  2015     11        1   \n",
       "1 2015-11-01 01:00:00         1        13  20151101011  2015     11        1   \n",
       "2 2015-11-01 02:00:00         1        10  20151101021  2015     11        1   \n",
       "3 2015-11-01 03:00:00         1         7  20151101031  2015     11        1   \n",
       "4 2015-11-01 04:00:00         1         9  20151101041  2015     11        1   \n",
       "\n",
       "   Hour     Day  \n",
       "0     0  Sunday  \n",
       "1     1  Sunday  \n",
       "2     2  Sunday  \n",
       "3     3  Sunday  \n",
       "4     4  Sunday  "
      ]
     },
     "execution_count": 25,
     "metadata": {},
     "output_type": "execute_result"
    }
   ],
   "source": [
    "train.head()"
   ]
  },
  {
   "cell_type": "code",
   "execution_count": 26,
   "id": "96e03c2c",
   "metadata": {
    "execution": {
     "iopub.execute_input": "2023-08-05T11:33:57.156205Z",
     "iopub.status.busy": "2023-08-05T11:33:57.155293Z",
     "iopub.status.idle": "2023-08-05T11:33:57.708315Z",
     "shell.execute_reply": "2023-08-05T11:33:57.706803Z"
    },
    "papermill": {
     "duration": 0.574635,
     "end_time": "2023-08-05T11:33:57.711352",
     "exception": false,
     "start_time": "2023-08-05T11:33:57.136717",
     "status": "completed"
    },
    "tags": []
   },
   "outputs": [],
   "source": [
    "train_features = datetounix1(train.drop(['Vehicles'], axis=1))\n",
    "test_features = datetounix1(test)\n",
    "\n",
    "\n",
    "# Store Features / Predictors in array :\n",
    "X = train_features  \n",
    "X_valid = test_features\n",
    "\n",
    "# One Hot Encoding - Using Dummies :\n",
    "X = pd.get_dummies(X)\n",
    "X_valid = pd.get_dummies(X_valid)\n",
    "\n",
    "# Store target 'Vehicles' in y array :\n",
    "y = train['Vehicles'].to_frame()\n",
    "\n",
    "X_train, X_test, y_train, y_test = train_test_split(X, y, test_size=0.33, random_state=512)"
   ]
  },
  {
   "cell_type": "markdown",
   "id": "cfc0b9c6",
   "metadata": {
    "papermill": {
     "duration": 0.016295,
     "end_time": "2023-08-05T11:33:57.744476",
     "exception": false,
     "start_time": "2023-08-05T11:33:57.728181",
     "status": "completed"
    },
    "tags": []
   },
   "source": [
    "# LGBM Regression"
   ]
  },
  {
   "cell_type": "code",
   "execution_count": 28,
   "id": "fc2f1464",
   "metadata": {
    "execution": {
     "iopub.execute_input": "2023-08-05T11:33:57.779305Z",
     "iopub.status.busy": "2023-08-05T11:33:57.778848Z",
     "iopub.status.idle": "2023-08-05T11:33:58.606987Z",
     "shell.execute_reply": "2023-08-05T11:33:58.605129Z"
    },
    "papermill": {
     "duration": 0.84906,
     "end_time": "2023-08-05T11:33:58.610057",
     "exception": false,
     "start_time": "2023-08-05T11:33:57.760997",
     "status": "completed"
    },
    "tags": []
   },
   "outputs": [
    {
     "name": "stdout",
     "output_type": "stream",
     "text": [
      "[LightGBM] [Info] Auto-choosing row-wise multi-threading, the overhead of testing was 0.000269 seconds.\n",
      "You can set `force_row_wise=true` to remove the overhead.\n",
      "And if memory is not enough, you can set `force_col_wise=true`.\n",
      "[LightGBM] [Info] Total Bins 602\n",
      "[LightGBM] [Info] Number of data points in the train set: 32240, number of used features: 14\n",
      "[LightGBM] [Info] Start training from score 22.676458\n",
      "Mean Squared Error: 26.13002050700315\n",
      "Mean Absolute Error: 2.9299309567160123\n",
      "R2 Score: 0.9407083622016995\n",
      "Adjusted R2 Score: 0.9406560405547297\n"
     ]
    }
   ],
   "source": [
    "# Convert the dataset to LightGBM data format\n",
    "train_data = lgb.Dataset(X_train, label=y_train)\n",
    "\n",
    "# Set the parameters for the LightGBM regression model\n",
    "params = {\n",
    "    'objective': 'regression',\n",
    "    'metric': 'rmse'  # Root Mean Squared Error\n",
    "}\n",
    "\n",
    "# Train the LightGBM regression model\n",
    "model = lgb.train(params,train_data, num_boost_round=100)\n",
    "\n",
    "# Make predictions on the testing set\n",
    "y_pred = model.predict(X_test)\n",
    "\n",
    "# Evaluating the model\n",
    "mse = mean_squared_error(y_test, y_pred)\n",
    "mae = mean_absolute_error(y_test, y_pred)\n",
    "r2 = r2_score(y_test, y_pred)\n",
    "\n",
    "# Printing the evaluation metrics\n",
    "print(\"Mean Squared Error:\", mse)\n",
    "print(\"Mean Absolute Error:\", mae)\n",
    "print(\"R2 Score:\", r2)\n",
    "#adjusted r2 score\n",
    "n = X_test.shape[0]  # number of samples\n",
    "p = X_test.shape[1]  # number of predictors\n",
    "adjusted_r2 = 1 - (1 - r2) * (n - 1) / (n - p - 1)\n",
    "print(\"Adjusted R2 Score:\", adjusted_r2)"
   ]
  },
  {
   "cell_type": "markdown",
   "id": "7a726ee7",
   "metadata": {
    "papermill": {
     "duration": 0.016689,
     "end_time": "2023-08-05T11:33:58.645237",
     "exception": false,
     "start_time": "2023-08-05T11:33:58.628548",
     "status": "completed"
    },
    "tags": []
   },
   "source": [
    "# Random Forest regressor"
   ]
  },
  {
   "cell_type": "code",
   "execution_count": 29,
   "id": "45d86e48",
   "metadata": {
    "execution": {
     "iopub.execute_input": "2023-08-05T11:33:58.680426Z",
     "iopub.status.busy": "2023-08-05T11:33:58.679943Z",
     "iopub.status.idle": "2023-08-05T11:34:12.439588Z",
     "shell.execute_reply": "2023-08-05T11:34:12.438404Z"
    },
    "papermill": {
     "duration": 13.780533,
     "end_time": "2023-08-05T11:34:12.442499",
     "exception": false,
     "start_time": "2023-08-05T11:33:58.661966",
     "status": "completed"
    },
    "tags": []
   },
   "outputs": [
    {
     "name": "stderr",
     "output_type": "stream",
     "text": [
      "c:\\Users\\arize\\OneDrive\\Desktop\\INT\\traffic\\.venv\\Lib\\site-packages\\sklearn\\base.py:1365: DataConversionWarning: A column-vector y was passed when a 1d array was expected. Please change the shape of y to (n_samples,), for example using ravel().\n",
      "  return fit_method(estimator, *args, **kwargs)\n"
     ]
    }
   ],
   "source": [
    "# Create a Random Forest regressor\n",
    "rf_regressor = RandomForestRegressor(n_estimators=100, random_state=42)\n",
    "\n",
    "# Train the model\n",
    "rf_regressor.fit(X_train, y_train)\n",
    "\n",
    "# Make predictions on the test set\n",
    "y_pred = rf_regressor.predict(X_test)\n",
    "#for i in range(15880):\n",
    "#    print(y_pred[i],y_test.iloc[i])"
   ]
  },
  {
   "cell_type": "code",
   "execution_count": 30,
   "id": "3a2e40b2",
   "metadata": {
    "execution": {
     "iopub.execute_input": "2023-08-05T11:34:12.477836Z",
     "iopub.status.busy": "2023-08-05T11:34:12.477401Z",
     "iopub.status.idle": "2023-08-05T11:34:12.491875Z",
     "shell.execute_reply": "2023-08-05T11:34:12.489885Z"
    },
    "papermill": {
     "duration": 0.035275,
     "end_time": "2023-08-05T11:34:12.494522",
     "exception": false,
     "start_time": "2023-08-05T11:34:12.459247",
     "status": "completed"
    },
    "tags": []
   },
   "outputs": [
    {
     "name": "stdout",
     "output_type": "stream",
     "text": [
      "Mean Squared Error: 15.803522852644834\n",
      "Mean Absolute Error: 2.5130220403022676\n",
      "R2 Score: 0.9641402212958443\n",
      "Adjusted R2 Score: 0.9641085769906531\n"
     ]
    }
   ],
   "source": [
    "# Evaluating the model\n",
    "mse = mean_squared_error(y_test, y_pred)\n",
    "mae = mean_absolute_error(y_test, y_pred)\n",
    "r2 = r2_score(y_test, y_pred)\n",
    "\n",
    "# Printing the evaluation metrics\n",
    "print(\"Mean Squared Error:\", mse)\n",
    "print(\"Mean Absolute Error:\", mae)\n",
    "print(\"R2 Score:\", r2)\n",
    "# adjusted r2 score\n",
    "n = X_test.shape[0]  # number of samples\n",
    "p = X_test.shape[1]  # number of predictors\n",
    "adjusted_r2 = 1 - (1 - r2) * (n - 1) / (n - p - 1)\n",
    "print(\"Adjusted R2 Score:\", adjusted_r2)"
   ]
  }
 ],
 "metadata": {
  "kernelspec": {
   "display_name": ".venv",
   "language": "python",
   "name": "python3"
  },
  "language_info": {
   "codemirror_mode": {
    "name": "ipython",
    "version": 3
   },
   "file_extension": ".py",
   "mimetype": "text/x-python",
   "name": "python",
   "nbconvert_exporter": "python",
   "pygments_lexer": "ipython3",
   "version": "3.13.5"
  },
  "papermill": {
   "default_parameters": {},
   "duration": 36.545463,
   "end_time": "2023-08-05T11:34:13.768320",
   "environment_variables": {},
   "exception": null,
   "input_path": "__notebook__.ipynb",
   "output_path": "__notebook__.ipynb",
   "parameters": {},
   "start_time": "2023-08-05T11:33:37.222857",
   "version": "2.4.0"
  }
 },
 "nbformat": 4,
 "nbformat_minor": 5
}
